{
 "cells": [
  {
   "cell_type": "code",
   "execution_count": 1,
   "metadata": {},
   "outputs": [
    {
     "name": "stderr",
     "output_type": "stream",
     "text": [
      "c:\\Users\\Patronel\\.virtualenvs\\progrecao_linear_multipla-D3KW4RL7\\Lib\\site-packages\\tqdm\\auto.py:21: TqdmWarning: IProgress not found. Please update jupyter and ipywidgets. See https://ipywidgets.readthedocs.io/en/stable/user_install.html\n",
      "  from .autonotebook import tqdm as notebook_tqdm\n"
     ]
    }
   ],
   "source": [
    "import gradio as gr\n",
    "import joblib\n",
    "import pandas as pd"
   ]
  },
  {
   "cell_type": "code",
   "execution_count": 2,
   "metadata": {},
   "outputs": [],
   "source": [
    "modelo = joblib.load('./modelo_colesterol.pkl')"
   ]
  },
  {
   "cell_type": "code",
   "execution_count": 3,
   "metadata": {},
   "outputs": [],
   "source": [
    "def predict(grupo_sanguineo, fumate, nivel_actividade_fisica, idade, peso, altura):\n",
    "    predicao_individual = {\n",
    "    'grupo_sanguineo': 'grupo_sanguineo',\n",
    "    'fumante': 'fumate',\n",
    "    'nivel_actividade_fisica': 'nivel_actividade_fisica',\n",
    "    'idade': idade,\n",
    "    'peso': peso,\n",
    "    'altura': altura\n",
    "    }\n",
    "    sample_df = pd.DataFrame(predicao_individual, index=[1])\n",
    "    colesterol =modelo.predict(predict_df)\n",
    "    return colesterol.reshape(-1)"
   ]
  },
  {
   "cell_type": "code",
   "execution_count": 4,
   "metadata": {},
   "outputs": [],
   "source": [
    "demo = gr.Interface(\n",
    "    fn = predict,\n",
    "    inputs = [\n",
    "        gr.Radio(['O', 'A', 'B', 'AB']),\n",
    "        'checkbox',\n",
    "        gr.Radio(['Baixo', 'Moderado', 'Alto']),\n",
    "        gr.Slider(20,80, step=1),\n",
    "        gr.Slider(40,160, step=0.1),\n",
    "        gr.Slider(150,200, step=1)],\n",
    "    outputs=['number']\n",
    ")"
   ]
  },
  {
   "cell_type": "code",
   "execution_count": 5,
   "metadata": {},
   "outputs": [
    {
     "name": "stdout",
     "output_type": "stream",
     "text": [
      "* Running on local URL:  http://127.0.0.1:7860\n",
      "\n",
      "To create a public link, set `share=True` in `launch()`.\n"
     ]
    },
    {
     "data": {
      "text/html": [
       "<div><iframe src=\"http://127.0.0.1:7860/\" width=\"100%\" height=\"500\" allow=\"autoplay; camera; microphone; clipboard-read; clipboard-write;\" frameborder=\"0\" allowfullscreen></iframe></div>"
      ],
      "text/plain": [
       "<IPython.core.display.HTML object>"
      ]
     },
     "metadata": {},
     "output_type": "display_data"
    },
    {
     "data": {
      "text/plain": []
     },
     "execution_count": 5,
     "metadata": {},
     "output_type": "execute_result"
    },
    {
     "name": "stderr",
     "output_type": "stream",
     "text": [
      "Traceback (most recent call last):\n",
      "  File \"c:\\Users\\Patronel\\.virtualenvs\\progrecao_linear_multipla-D3KW4RL7\\Lib\\site-packages\\gradio\\queueing.py\", line 625, in process_events\n",
      "    response = await route_utils.call_process_api(\n",
      "               ^^^^^^^^^^^^^^^^^^^^^^^^^^^^^^^^^^^\n",
      "  File \"c:\\Users\\Patronel\\.virtualenvs\\progrecao_linear_multipla-D3KW4RL7\\Lib\\site-packages\\gradio\\route_utils.py\", line 322, in call_process_api\n",
      "    output = await app.get_blocks().process_api(\n",
      "             ^^^^^^^^^^^^^^^^^^^^^^^^^^^^^^^^^^^\n",
      "  File \"c:\\Users\\Patronel\\.virtualenvs\\progrecao_linear_multipla-D3KW4RL7\\Lib\\site-packages\\gradio\\blocks.py\", line 2096, in process_api\n",
      "    result = await self.call_function(\n",
      "             ^^^^^^^^^^^^^^^^^^^^^^^^^\n",
      "  File \"c:\\Users\\Patronel\\.virtualenvs\\progrecao_linear_multipla-D3KW4RL7\\Lib\\site-packages\\gradio\\blocks.py\", line 1643, in call_function\n",
      "    prediction = await anyio.to_thread.run_sync(  # type: ignore\n",
      "                 ^^^^^^^^^^^^^^^^^^^^^^^^^^^^^^^^^^^^^^^^^^^^^^^\n",
      "  File \"c:\\Users\\Patronel\\.virtualenvs\\progrecao_linear_multipla-D3KW4RL7\\Lib\\site-packages\\anyio\\to_thread.py\", line 56, in run_sync\n",
      "    return await get_async_backend().run_sync_in_worker_thread(\n",
      "           ^^^^^^^^^^^^^^^^^^^^^^^^^^^^^^^^^^^^^^^^^^^^^^^^^^^^\n",
      "  File \"c:\\Users\\Patronel\\.virtualenvs\\progrecao_linear_multipla-D3KW4RL7\\Lib\\site-packages\\anyio\\_backends\\_asyncio.py\", line 2461, in run_sync_in_worker_thread\n",
      "    return await future\n",
      "           ^^^^^^^^^^^^\n",
      "  File \"c:\\Users\\Patronel\\.virtualenvs\\progrecao_linear_multipla-D3KW4RL7\\Lib\\site-packages\\anyio\\_backends\\_asyncio.py\", line 962, in run\n",
      "    result = context.run(func, *args)\n",
      "             ^^^^^^^^^^^^^^^^^^^^^^^^\n",
      "  File \"c:\\Users\\Patronel\\.virtualenvs\\progrecao_linear_multipla-D3KW4RL7\\Lib\\site-packages\\gradio\\utils.py\", line 890, in wrapper\n",
      "    response = f(*args, **kwargs)\n",
      "               ^^^^^^^^^^^^^^^^^^\n",
      "  File \"C:\\Users\\Patronel\\AppData\\Local\\Temp\\ipykernel_8800\\3603281465.py\", line 11, in predict\n",
      "    colesterol =modelo.predict(predict_df)\n",
      "                               ^^^^^^^^^^\n",
      "NameError: name 'predict_df' is not defined\n"
     ]
    }
   ],
   "source": [
    "demo.launch()"
   ]
  }
 ],
 "metadata": {
  "kernelspec": {
   "display_name": "progrecao_linear_multipla-D3KW4RL7",
   "language": "python",
   "name": "python3"
  },
  "language_info": {
   "codemirror_mode": {
    "name": "ipython",
    "version": 3
   },
   "file_extension": ".py",
   "mimetype": "text/x-python",
   "name": "python",
   "nbconvert_exporter": "python",
   "pygments_lexer": "ipython3",
   "version": "3.11.8"
  }
 },
 "nbformat": 4,
 "nbformat_minor": 2
}
